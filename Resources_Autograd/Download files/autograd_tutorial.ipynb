{
 "cells": [
  {
   "cell_type": "markdown",
   "id": "9eb7cf96",
   "metadata": {},
   "source": [
    "<h2 align=\"center\">Codebasics DL Course: Autograd in PyTorch<h2>"
   ]
  },
  {
   "cell_type": "code",
   "execution_count": 29,
   "id": "1836f548",
   "metadata": {},
   "outputs": [],
   "source": [
    "import torch"
   ]
  },
  {
   "cell_type": "markdown",
   "id": "34896ab1",
   "metadata": {},
   "source": [
    "#### Gradient for a single input"
   ]
  },
  {
   "cell_type": "code",
   "execution_count": 79,
   "id": "786ae7bd",
   "metadata": {},
   "outputs": [
    {
     "data": {
      "text/plain": [
       "tensor(425., dtype=torch.float16, grad_fn=<AddBackward0>)"
      ]
     },
     "execution_count": 79,
     "metadata": {},
     "output_type": "execute_result"
    }
   ],
   "source": [
    "material_cost = torch.tensor(10, requires_grad=True, dtype=torch.float16)\n",
    "labor_cost = torch.tensor(5, requires_grad=True, dtype=torch.float16)\n",
    "\n",
    "total_cost = 3*material_cost**2 + 5*labor_cost + 100\n",
    "total_cost"
   ]
  },
  {
   "cell_type": "code",
   "execution_count": 80,
   "id": "4d56d3a7",
   "metadata": {},
   "outputs": [
    {
     "data": {
      "text/plain": [
       "(tensor(60., dtype=torch.float16), tensor(5., dtype=torch.float16))"
      ]
     },
     "execution_count": 80,
     "metadata": {},
     "output_type": "execute_result"
    }
   ],
   "source": [
    "total_cost.backward()\n",
    "material_cost.grad, labor_cost.grad"
   ]
  },
  {
   "cell_type": "code",
   "execution_count": 114,
   "id": "8aeba3c0",
   "metadata": {},
   "outputs": [
    {
     "data": {
      "text/plain": [
       "True"
      ]
     },
     "execution_count": 114,
     "metadata": {},
     "output_type": "execute_result"
    }
   ],
   "source": [
    "total_cost.requires_grad"
   ]
  },
  {
   "cell_type": "markdown",
   "id": "6410bfcc",
   "metadata": {},
   "source": [
    "#### Disable gradient computation"
   ]
  },
  {
   "cell_type": "code",
   "execution_count": 116,
   "id": "8c7a5979",
   "metadata": {},
   "outputs": [
    {
     "name": "stdout",
     "output_type": "stream",
     "text": [
      "Outside no_grad:  True\n",
      "Inside no_grad:  False\n"
     ]
    }
   ],
   "source": [
    "x = torch.tensor(4, requires_grad=True, dtype=torch.float16)\n",
    "y = x**2 + 5\n",
    "print(\"Outside no_grad: \", y.requires_grad)\n",
    "\n",
    "# y.backward()\n",
    "# print(x.grad)\n",
    "    \n",
    "with torch.no_grad():\n",
    "    y = x**2 + 5\n",
    "    print(\"Inside no_grad: \", y.requires_grad)"
   ]
  },
  {
   "cell_type": "markdown",
   "id": "80fa5e48",
   "metadata": {},
   "source": [
    "#### Gradient for a vector"
   ]
  },
  {
   "cell_type": "code",
   "execution_count": 105,
   "id": "4cdceae8",
   "metadata": {},
   "outputs": [
    {
     "data": {
      "text/plain": [
       "tensor([[  9.,  23.],\n",
       "        [ 61., 135.]], dtype=torch.float16, grad_fn=<AddBackward0>)"
      ]
     },
     "execution_count": 105,
     "metadata": {},
     "output_type": "execute_result"
    }
   ],
   "source": [
    "x = torch.tensor([1,2,3],requires_grad=True,dtype=torch.float16)\n",
    "# x = torch.tensor([[1,2],[3,4]],requires_grad=True,dtype=torch.float16)\n",
    "\n",
    "y = 2 * x ** 3 + 7 \n",
    "y"
   ]
  },
  {
   "cell_type": "code",
   "execution_count": 106,
   "id": "29ffb777",
   "metadata": {},
   "outputs": [
    {
     "data": {
      "text/plain": [
       "tensor(228., dtype=torch.float16, grad_fn=<SumBackward0>)"
      ]
     },
     "execution_count": 106,
     "metadata": {},
     "output_type": "execute_result"
    }
   ],
   "source": [
    "result = y.sum()\n",
    "result"
   ]
  },
  {
   "cell_type": "code",
   "execution_count": 107,
   "id": "1fa77d00",
   "metadata": {},
   "outputs": [
    {
     "data": {
      "text/plain": [
       "tensor([[ 6., 24.],\n",
       "        [54., 96.]], dtype=torch.float16)"
      ]
     },
     "execution_count": 107,
     "metadata": {},
     "output_type": "execute_result"
    }
   ],
   "source": [
    "result.backward()\n",
    "x.grad"
   ]
  }
 ],
 "metadata": {
  "kernelspec": {
   "display_name": "Python 3 (ipykernel)",
   "language": "python",
   "name": "python3"
  },
  "language_info": {
   "codemirror_mode": {
    "name": "ipython",
    "version": 3
   },
   "file_extension": ".py",
   "mimetype": "text/x-python",
   "name": "python",
   "nbconvert_exporter": "python",
   "pygments_lexer": "ipython3",
   "version": "3.10.11"
  }
 },
 "nbformat": 4,
 "nbformat_minor": 5
}
