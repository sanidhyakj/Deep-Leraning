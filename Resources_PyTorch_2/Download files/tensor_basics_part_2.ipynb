{
 "cells": [
  {
   "cell_type": "markdown",
   "id": "e50004e5",
   "metadata": {},
   "source": [
    "<h2 align=\"center\">Codebasics DL Course: Tensors in PyTorch 2</h2>"
   ]
  },
  {
   "cell_type": "code",
   "execution_count": 2,
   "id": "2085dc88",
   "metadata": {},
   "outputs": [],
   "source": [
    "import torch"
   ]
  },
  {
   "cell_type": "markdown",
   "id": "ac55dbd7",
   "metadata": {},
   "source": [
    "### Tensor Attributes"
   ]
  },
  {
   "cell_type": "code",
   "execution_count": 15,
   "id": "0bb4ef99",
   "metadata": {},
   "outputs": [],
   "source": [
    "units = torch.tensor([\n",
    "    [200, 220],  # Product A (iPhone)\n",
    "    [150, 180],  # Product B (iPad)\n",
    "    [300, 330]   # Product C (MacBook)\n",
    "])"
   ]
  },
  {
   "cell_type": "code",
   "execution_count": 17,
   "id": "2c976f0e",
   "metadata": {},
   "outputs": [
    {
     "data": {
      "text/plain": [
       "torch.Size([3, 2])"
      ]
     },
     "execution_count": 17,
     "metadata": {},
     "output_type": "execute_result"
    }
   ],
   "source": [
    "units.shape"
   ]
  },
  {
   "cell_type": "code",
   "execution_count": 18,
   "id": "f611875f",
   "metadata": {},
   "outputs": [
    {
     "data": {
      "text/plain": [
       "torch.int64"
      ]
     },
     "execution_count": 18,
     "metadata": {},
     "output_type": "execute_result"
    }
   ],
   "source": [
    "units.dtype"
   ]
  },
  {
   "cell_type": "code",
   "execution_count": 12,
   "id": "04d9b94c",
   "metadata": {
    "scrolled": true
   },
   "outputs": [
    {
     "data": {
      "text/plain": [
       "device(type='cpu')"
      ]
     },
     "execution_count": 12,
     "metadata": {},
     "output_type": "execute_result"
    }
   ],
   "source": [
    "units.device"
   ]
  },
  {
   "cell_type": "markdown",
   "id": "2b1da629",
   "metadata": {},
   "source": [
    "### Tensor Reshaping"
   ]
  },
  {
   "cell_type": "code",
   "execution_count": 19,
   "id": "11e489d5",
   "metadata": {},
   "outputs": [
    {
     "data": {
      "text/plain": [
       "tensor([200, 220, 150, 180, 300, 330])"
      ]
     },
     "execution_count": 19,
     "metadata": {},
     "output_type": "execute_result"
    }
   ],
   "source": [
    "units.view(-1)"
   ]
  },
  {
   "cell_type": "code",
   "execution_count": 20,
   "id": "1a73d7e0",
   "metadata": {},
   "outputs": [
    {
     "data": {
      "text/plain": [
       "tensor([[200, 220, 150],\n",
       "        [180, 300, 330]])"
      ]
     },
     "execution_count": 20,
     "metadata": {},
     "output_type": "execute_result"
    }
   ],
   "source": [
    "units.view(2,3)"
   ]
  },
  {
   "cell_type": "code",
   "execution_count": 21,
   "id": "3ca267ee",
   "metadata": {
    "scrolled": false
   },
   "outputs": [
    {
     "data": {
      "text/plain": [
       "tensor([[200],\n",
       "        [220],\n",
       "        [150],\n",
       "        [180],\n",
       "        [300],\n",
       "        [330]])"
      ]
     },
     "execution_count": 21,
     "metadata": {},
     "output_type": "execute_result"
    }
   ],
   "source": [
    "units.view(6,1)"
   ]
  },
  {
   "cell_type": "markdown",
   "id": "fead6e22",
   "metadata": {},
   "source": [
    "### Index Operator"
   ]
  },
  {
   "cell_type": "code",
   "execution_count": 22,
   "id": "ea606540",
   "metadata": {},
   "outputs": [
    {
     "data": {
      "text/plain": [
       "tensor([[200, 220],\n",
       "        [150, 180],\n",
       "        [300, 330]])"
      ]
     },
     "execution_count": 22,
     "metadata": {},
     "output_type": "execute_result"
    }
   ],
   "source": [
    "units"
   ]
  },
  {
   "cell_type": "code",
   "execution_count": 23,
   "id": "459e9472",
   "metadata": {},
   "outputs": [
    {
     "data": {
      "text/plain": [
       "tensor(300)"
      ]
     },
     "execution_count": 23,
     "metadata": {},
     "output_type": "execute_result"
    }
   ],
   "source": [
    "units[2,0]"
   ]
  },
  {
   "cell_type": "code",
   "execution_count": 24,
   "id": "b29cbd54",
   "metadata": {},
   "outputs": [
    {
     "data": {
      "text/plain": [
       "tensor([[200, 220],\n",
       "        [150, 180],\n",
       "        [305, 330]])"
      ]
     },
     "execution_count": 24,
     "metadata": {},
     "output_type": "execute_result"
    }
   ],
   "source": [
    "units[2,0] = 305\n",
    "units"
   ]
  },
  {
   "cell_type": "markdown",
   "id": "0d7e31e8",
   "metadata": {},
   "source": [
    "### Tensor Creation with Specific Values"
   ]
  },
  {
   "cell_type": "code",
   "execution_count": 25,
   "id": "6f6da496",
   "metadata": {},
   "outputs": [
    {
     "data": {
      "text/plain": [
       "tensor([[0., 0., 0.],\n",
       "        [0., 0., 0.]])"
      ]
     },
     "execution_count": 25,
     "metadata": {},
     "output_type": "execute_result"
    }
   ],
   "source": [
    "torch.zeros((2,3))"
   ]
  },
  {
   "cell_type": "code",
   "execution_count": 26,
   "id": "4c27c317",
   "metadata": {},
   "outputs": [
    {
     "data": {
      "text/plain": [
       "tensor([[1., 1., 1., 1., 1.],\n",
       "        [1., 1., 1., 1., 1.],\n",
       "        [1., 1., 1., 1., 1.]])"
      ]
     },
     "execution_count": 26,
     "metadata": {},
     "output_type": "execute_result"
    }
   ],
   "source": [
    "torch.ones((3,5))"
   ]
  },
  {
   "cell_type": "code",
   "execution_count": 27,
   "id": "9b7ad68e",
   "metadata": {},
   "outputs": [
    {
     "data": {
      "text/plain": [
       "tensor([[0.1443, 0.2439, 0.8509, 0.3203, 0.6583],\n",
       "        [0.2582, 0.3991, 0.6188, 0.8829, 0.6616],\n",
       "        [0.8776, 0.8054, 0.7032, 0.8534, 0.4898]])"
      ]
     },
     "execution_count": 27,
     "metadata": {},
     "output_type": "execute_result"
    }
   ],
   "source": [
    "torch.rand((3,5))"
   ]
  }
 ],
 "metadata": {
  "kernelspec": {
   "display_name": "Python 3 (ipykernel)",
   "language": "python",
   "name": "python3"
  },
  "language_info": {
   "codemirror_mode": {
    "name": "ipython",
    "version": 3
   },
   "file_extension": ".py",
   "mimetype": "text/x-python",
   "name": "python",
   "nbconvert_exporter": "python",
   "pygments_lexer": "ipython3",
   "version": "3.10.11"
  }
 },
 "nbformat": 4,
 "nbformat_minor": 5
}
