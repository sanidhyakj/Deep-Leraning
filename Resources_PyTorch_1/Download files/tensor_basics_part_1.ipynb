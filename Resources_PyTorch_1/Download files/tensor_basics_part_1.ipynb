{
 "cells": [
  {
   "cell_type": "markdown",
   "id": "86bcda4f",
   "metadata": {},
   "source": [
    "<h2 align=\"center\">Codebasics DL Course: Tensors in PyTorch</h2>"
   ]
  },
  {
   "cell_type": "code",
   "execution_count": 2,
   "id": "2a2310eb",
   "metadata": {},
   "outputs": [],
   "source": [
    "import torch"
   ]
  },
  {
   "cell_type": "markdown",
   "id": "b5556d5d",
   "metadata": {},
   "source": [
    "### Single value in tensor"
   ]
  },
  {
   "cell_type": "code",
   "execution_count": 3,
   "id": "e94ec6ae",
   "metadata": {
    "scrolled": false
   },
   "outputs": [
    {
     "data": {
      "text/plain": [
       "tensor(9)"
      ]
     },
     "execution_count": 3,
     "metadata": {},
     "output_type": "execute_result"
    }
   ],
   "source": [
    "torch.tensor(9)"
   ]
  },
  {
   "cell_type": "markdown",
   "id": "d518247f",
   "metadata": {},
   "source": [
    "### Arrays as tensors"
   ]
  },
  {
   "cell_type": "code",
   "execution_count": 4,
   "id": "96ec3f47",
   "metadata": {},
   "outputs": [
    {
     "data": {
      "text/plain": [
       "tensor([100, 120,  90,  75])"
      ]
     },
     "execution_count": 4,
     "metadata": {},
     "output_type": "execute_result"
    }
   ],
   "source": [
    "revenue = torch.tensor([100, 120, 90, 75])\n",
    "revenue"
   ]
  },
  {
   "cell_type": "code",
   "execution_count": 5,
   "id": "41d9c8d8",
   "metadata": {},
   "outputs": [
    {
     "data": {
      "text/plain": [
       "tensor(120)"
      ]
     },
     "execution_count": 5,
     "metadata": {},
     "output_type": "execute_result"
    }
   ],
   "source": [
    "revenue[1]"
   ]
  },
  {
   "cell_type": "code",
   "execution_count": 6,
   "id": "38c6c684",
   "metadata": {
    "scrolled": false
   },
   "outputs": [
    {
     "data": {
      "text/plain": [
       "tensor([100, 120,  90])"
      ]
     },
     "execution_count": 6,
     "metadata": {},
     "output_type": "execute_result"
    }
   ],
   "source": [
    "revenue[:3]"
   ]
  },
  {
   "cell_type": "code",
   "execution_count": 7,
   "id": "8dad986b",
   "metadata": {},
   "outputs": [
    {
     "data": {
      "text/plain": [
       "tensor([ 80, 117,  71,  68])"
      ]
     },
     "execution_count": 7,
     "metadata": {},
     "output_type": "execute_result"
    }
   ],
   "source": [
    "expenses = torch.tensor([80, 117, 71, 68])\n",
    "expenses"
   ]
  },
  {
   "cell_type": "code",
   "execution_count": 8,
   "id": "7c98a373",
   "metadata": {},
   "outputs": [
    {
     "data": {
      "text/plain": [
       "tensor([20,  3, 19,  7])"
      ]
     },
     "execution_count": 8,
     "metadata": {},
     "output_type": "execute_result"
    }
   ],
   "source": [
    "profit = revenue - expenses\n",
    "profit"
   ]
  },
  {
   "cell_type": "code",
   "execution_count": 9,
   "id": "a155c346",
   "metadata": {},
   "outputs": [
    {
     "data": {
      "text/plain": [
       "tensor([20.0000,  2.5000, 21.1111,  9.3333])"
      ]
     },
     "execution_count": 9,
     "metadata": {},
     "output_type": "execute_result"
    }
   ],
   "source": [
    "profit_pct = profit * 100 / revenue\n",
    "profit_pct"
   ]
  },
  {
   "cell_type": "markdown",
   "id": "952e9836",
   "metadata": {},
   "source": [
    "### Metrices as tensors"
   ]
  },
  {
   "cell_type": "code",
   "execution_count": 10,
   "id": "91605ee5",
   "metadata": {},
   "outputs": [],
   "source": [
    "# Sales data for Quarter 1 (Matrix 1)\n",
    "# Rows represent different products, columns represent different regions\n",
    "\n",
    "q1 = torch.tensor([\n",
    "    [200, 220, 250],  # Product A (iPhone)\n",
    "    [150, 180, 210],  # Product B (iPad)\n",
    "    [300, 330, 360]   # Product C (MacBook)\n",
    "])\n",
    "\n",
    "q2 = torch.tensor([\n",
    "    [209, 231, 259],  # Product A (iPhone)\n",
    "    [155, 192, 222],  # Product B (iPad)\n",
    "    [310, 340, 375]   # Product C (MacBook)\n",
    "])"
   ]
  },
  {
   "cell_type": "code",
   "execution_count": 11,
   "id": "b2611c0e",
   "metadata": {},
   "outputs": [
    {
     "data": {
      "text/plain": [
       "tensor([[409, 451, 509],\n",
       "        [305, 372, 432],\n",
       "        [610, 670, 735]])"
      ]
     },
     "execution_count": 11,
     "metadata": {},
     "output_type": "execute_result"
    }
   ],
   "source": [
    "# total revenue from Q1 and Q2\n",
    "q1 + q2"
   ]
  },
  {
   "cell_type": "code",
   "execution_count": 12,
   "id": "1cb05bd8",
   "metadata": {},
   "outputs": [
    {
     "data": {
      "text/plain": [
       "tensor([[ 9, 11,  9],\n",
       "        [ 5, 12, 12],\n",
       "        [10, 10, 15]])"
      ]
     },
     "execution_count": 12,
     "metadata": {},
     "output_type": "execute_result"
    }
   ],
   "source": [
    "# Revenue growth in Q2 as compared to Q1\n",
    "q2 - q1"
   ]
  },
  {
   "cell_type": "code",
   "execution_count": 13,
   "id": "c89005ea",
   "metadata": {
    "scrolled": true
   },
   "outputs": [
    {
     "data": {
      "text/plain": [
       "tensor([[4.5000, 5.0000, 3.6000],\n",
       "        [3.3333, 6.6667, 5.7143],\n",
       "        [3.3333, 3.0303, 4.1667]])"
      ]
     },
     "execution_count": 13,
     "metadata": {},
     "output_type": "execute_result"
    }
   ],
   "source": [
    "# % sales units growth in q2 compared to q1\n",
    "(q2-q1)*100/q1"
   ]
  },
  {
   "cell_type": "markdown",
   "id": "7f410ff9",
   "metadata": {},
   "source": [
    "### Returned Items"
   ]
  },
  {
   "cell_type": "code",
   "execution_count": 14,
   "id": "a408391c",
   "metadata": {},
   "outputs": [
    {
     "data": {
      "text/plain": [
       "tensor([[20., 22., 25.],\n",
       "        [15., 18., 21.],\n",
       "        [30., 33., 36.]])"
      ]
     },
     "execution_count": 14,
     "metadata": {},
     "output_type": "execute_result"
    }
   ],
   "source": [
    "# assume that 10% is the return rate across the board. \n",
    "# Find out how many items are returned exactly per product, per region in Q1\n",
    "\n",
    "return_rate = 0.1\n",
    "return_rate * q1"
   ]
  },
  {
   "cell_type": "markdown",
   "id": "9f6bdd36",
   "metadata": {},
   "source": [
    "* 20 iPhones were returned in USA, 22 in India and 25 in China\n",
    "* 15 iPads were returned in USA, 18 in India and 21 in China\n",
    "* 30 Macbooks were returned in USA, 33 in India and 36 in China"
   ]
  },
  {
   "cell_type": "markdown",
   "id": "d4402d04",
   "metadata": {},
   "source": [
    "### Profit Amount"
   ]
  },
  {
   "cell_type": "code",
   "execution_count": 15,
   "id": "ac015e5d",
   "metadata": {},
   "outputs": [
    {
     "data": {
      "text/plain": [
       "tensor([[ 6000,  5940,  6250],\n",
       "        [ 3000,  3240,  3570],\n",
       "        [13500, 12540, 14040]])"
      ]
     },
     "execution_count": 15,
     "metadata": {},
     "output_type": "execute_result"
    }
   ],
   "source": [
    "# profit per unit is given product and region wise\n",
    "# calculate total profit for all units per region, per product\n",
    "profit_per_unit = torch.tensor([\n",
    "    [30,27,25],\n",
    "    [20,18,17],\n",
    "    [45,38,39]\n",
    "])\n",
    "\n",
    "# for this we can use *element wise multiplication*\n",
    "q1 * profit_per_unit"
   ]
  },
  {
   "cell_type": "markdown",
   "id": "2440b428",
   "metadata": {},
   "source": [
    "### Product Revenue"
   ]
  },
  {
   "cell_type": "code",
   "execution_count": 16,
   "id": "01e16e51",
   "metadata": {},
   "outputs": [
    {
     "data": {
      "text/plain": [
       "tensor([[1100,  450, 1500]])"
      ]
     },
     "execution_count": 16,
     "metadata": {},
     "output_type": "execute_result"
    }
   ],
   "source": [
    "product_prices = torch.tensor([[1100, 450, 1500]])\n",
    "product_prices"
   ]
  },
  {
   "cell_type": "code",
   "execution_count": 17,
   "id": "8cbba932",
   "metadata": {},
   "outputs": [
    {
     "data": {
      "text/plain": [
       "tensor([[200, 220, 250],\n",
       "        [150, 180, 210],\n",
       "        [300, 330, 360]])"
      ]
     },
     "execution_count": 17,
     "metadata": {},
     "output_type": "execute_result"
    }
   ],
   "source": [
    "q1"
   ]
  },
  {
   "cell_type": "code",
   "execution_count": 18,
   "id": "33423119",
   "metadata": {},
   "outputs": [
    {
     "data": {
      "text/plain": [
       "tensor([[737500, 818000, 909500]])"
      ]
     },
     "execution_count": 18,
     "metadata": {},
     "output_type": "execute_result"
    }
   ],
   "source": [
    "revenue_per_region_matrix = torch.matmul(product_prices, q1)\n",
    "revenue_per_region_matrix"
   ]
  },
  {
   "cell_type": "code",
   "execution_count": 19,
   "id": "0a2388e5",
   "metadata": {},
   "outputs": [
    {
     "data": {
      "text/plain": [
       "tensor([[200, 220, 250],\n",
       "        [150, 180, 210],\n",
       "        [300, 330, 360]])"
      ]
     },
     "execution_count": 19,
     "metadata": {},
     "output_type": "execute_result"
    }
   ],
   "source": [
    "q1"
   ]
  },
  {
   "cell_type": "code",
   "execution_count": 20,
   "id": "dbe86e00",
   "metadata": {},
   "outputs": [
    {
     "data": {
      "text/plain": [
       "tensor([[1100,  450, 1500]])"
      ]
     },
     "execution_count": 20,
     "metadata": {},
     "output_type": "execute_result"
    }
   ],
   "source": [
    "product_prices"
   ]
  },
  {
   "cell_type": "code",
   "execution_count": 21,
   "id": "576c4128",
   "metadata": {},
   "outputs": [
    {
     "data": {
      "text/plain": [
       "tensor([[1100],\n",
       "        [ 450],\n",
       "        [1500]])"
      ]
     },
     "execution_count": 21,
     "metadata": {},
     "output_type": "execute_result"
    }
   ],
   "source": [
    "product_prices.t()"
   ]
  },
  {
   "cell_type": "code",
   "execution_count": 22,
   "id": "1249d809",
   "metadata": {},
   "outputs": [
    {
     "data": {
      "text/plain": [
       "tensor([[220000, 242000, 275000],\n",
       "        [ 67500,  81000,  94500],\n",
       "        [450000, 495000, 540000]])"
      ]
     },
     "execution_count": 22,
     "metadata": {},
     "output_type": "execute_result"
    }
   ],
   "source": [
    "prices_by_region = q1*product_prices.t()\n",
    "prices_by_region"
   ]
  },
  {
   "cell_type": "code",
   "execution_count": 23,
   "id": "69a71adb",
   "metadata": {},
   "outputs": [
    {
     "data": {
      "text/plain": [
       "tensor([737500, 818000, 909500])"
      ]
     },
     "execution_count": 23,
     "metadata": {},
     "output_type": "execute_result"
    }
   ],
   "source": [
    "prices_by_region.sum(dim=0)"
   ]
  },
  {
   "cell_type": "markdown",
   "id": "ce0e9d5a",
   "metadata": {},
   "source": [
    "### Portfolio Analysis Use Case"
   ]
  },
  {
   "cell_type": "code",
   "execution_count": 24,
   "id": "fdfb8139",
   "metadata": {},
   "outputs": [
    {
     "data": {
      "text/plain": [
       "tensor([[200.5000, 186.0000, 167.0000],\n",
       "        [187.5000, 175.4000, 163.0000],\n",
       "        [210.0000, 193.8000, 176.0000]])"
      ]
     },
     "execution_count": 24,
     "metadata": {},
     "output_type": "execute_result"
    }
   ],
   "source": [
    "# Create portfolio composition matrix (3x3)\n",
    "# Rows: Different portfolios (P1, P2, P3)\n",
    "# Columns: Asset allocation (Stocks, Bonds, Real Estate)\n",
    "portfolio_composition = torch.tensor([\n",
    "    [100.0, 50.0, 30.0],  # P1\n",
    "    [80.0, 70.0, 20.0],   # P2\n",
    "    [60.0, 40.0, 90.0]    # P3\n",
    "], dtype=torch.float32)\n",
    "\n",
    "# Create price change matrix (3x3)\n",
    "# Rows: Assets (Stocks, Bonds, Real Estate)\n",
    "# Columns: Economic scenarios (Growth, Neutral, Recession)\n",
    "price_changes = torch.tensor([\n",
    "    [1.15, 1.05, 0.85],  # Stocks\n",
    "    [1.05, 1.02, 1.10],  # Bonds\n",
    "    [1.10, 1.00, 0.90]   # Real Estate\n",
    "], dtype=torch.float32)\n",
    "\n",
    "values = torch.matmul(portfolio_composition, price_changes)\n",
    "values"
   ]
  },
  {
   "cell_type": "code",
   "execution_count": 25,
   "id": "ee33ba94",
   "metadata": {},
   "outputs": [
    {
     "data": {
      "text/plain": [
       "tensor([[16641.5000, 15438.0000, 13861.0000],\n",
       "        [15562.5000, 14558.1992, 13529.0000],\n",
       "        [17430.0000, 16085.3994, 14608.0000]])"
      ]
     },
     "execution_count": 25,
     "metadata": {},
     "output_type": "execute_result"
    }
   ],
   "source": [
    "# Assume that this portfolio is in USD. You want to convert that to INR \n",
    "# Assume USD to INR conversion rate to be 83\n",
    "\n",
    "values_inr = 83*values\n",
    "values_inr"
   ]
  },
  {
   "cell_type": "markdown",
   "id": "25916203",
   "metadata": {},
   "source": [
    "### GPU Acceleration"
   ]
  },
  {
   "cell_type": "code",
   "execution_count": 26,
   "id": "1e2ac39b",
   "metadata": {},
   "outputs": [
    {
     "data": {
      "text/plain": [
       "True"
      ]
     },
     "execution_count": 26,
     "metadata": {},
     "output_type": "execute_result"
    }
   ],
   "source": [
    "torch.cuda.is_available()"
   ]
  },
  {
   "cell_type": "code",
   "execution_count": 27,
   "id": "3fdb7b0e",
   "metadata": {},
   "outputs": [
    {
     "name": "stdout",
     "output_type": "stream",
     "text": [
      "Using GPU for large-scale customer data processing\n"
     ]
    }
   ],
   "source": [
    "if torch.cuda.is_available():\n",
    "    device = torch.device(\"cuda\")\n",
    "    print(\"Using GPU for large-scale customer data processing\")\n",
    "else:\n",
    "    device = torch.device(\"cpu\")\n",
    "    print(\"Using CPU for customer data processing\")"
   ]
  },
  {
   "cell_type": "code",
   "execution_count": 28,
   "id": "e503747d",
   "metadata": {},
   "outputs": [
    {
     "data": {
      "text/plain": [
       "torch.Size([1000000, 3])"
      ]
     },
     "execution_count": 28,
     "metadata": {},
     "output_type": "execute_result"
    }
   ],
   "source": [
    "# Simulating customer data with 1 million customers and 3 features (age, spending score, income)\n",
    "customer_data = torch.rand(1_000_000, 3, device=device)\n",
    "customer_data.shape"
   ]
  },
  {
   "cell_type": "code",
   "execution_count": 29,
   "id": "c7cc91ae",
   "metadata": {},
   "outputs": [
    {
     "data": {
      "text/plain": [
       "tensor([[0.3999, 0.4427, 0.3954],\n",
       "        [0.5352, 0.6922, 0.7184],\n",
       "        [0.4555, 0.9186, 0.6437],\n",
       "        [0.2123, 0.9872, 0.3099],\n",
       "        [0.6113, 0.1068, 0.4083]], device='cuda:0')"
      ]
     },
     "execution_count": 29,
     "metadata": {},
     "output_type": "execute_result"
    }
   ],
   "source": [
    "customer_data[:5]"
   ]
  },
  {
   "cell_type": "code",
   "execution_count": 30,
   "id": "f78b30ca",
   "metadata": {},
   "outputs": [
    {
     "data": {
      "text/plain": [
       "tensor([[0.5352, 0.6922, 0.7184],\n",
       "        [0.4555, 0.9186, 0.6437],\n",
       "        [0.2123, 0.9872, 0.3099],\n",
       "        ...,\n",
       "        [0.1199, 0.5548, 0.1286],\n",
       "        [0.2285, 0.8287, 0.3414],\n",
       "        [0.8677, 0.7134, 0.9421]], device='cuda:0')"
      ]
     },
     "execution_count": 30,
     "metadata": {},
     "output_type": "execute_result"
    }
   ],
   "source": [
    "high_spending_customers = customer_data[customer_data[:, 1] > 0.5]\n",
    "high_spending_customers"
   ]
  },
  {
   "cell_type": "code",
   "execution_count": 31,
   "id": "a8940884",
   "metadata": {},
   "outputs": [
    {
     "data": {
      "text/plain": [
       "torch.Size([499761, 3])"
      ]
     },
     "execution_count": 31,
     "metadata": {},
     "output_type": "execute_result"
    }
   ],
   "source": [
    "high_spending_customers.shape"
   ]
  },
  {
   "cell_type": "code",
   "execution_count": 32,
   "id": "f8f1fb00",
   "metadata": {},
   "outputs": [],
   "source": [
    "high_spending_customers_cpu = high_spending_customers.to(\"cpu\")"
   ]
  }
 ],
 "metadata": {
  "kernelspec": {
   "display_name": "Python 3 (ipykernel)",
   "language": "python",
   "name": "python3"
  },
  "language_info": {
   "codemirror_mode": {
    "name": "ipython",
    "version": 3
   },
   "file_extension": ".py",
   "mimetype": "text/x-python",
   "name": "python",
   "nbconvert_exporter": "python",
   "pygments_lexer": "ipython3",
   "version": "3.10.11"
  }
 },
 "nbformat": 4,
 "nbformat_minor": 5
}
