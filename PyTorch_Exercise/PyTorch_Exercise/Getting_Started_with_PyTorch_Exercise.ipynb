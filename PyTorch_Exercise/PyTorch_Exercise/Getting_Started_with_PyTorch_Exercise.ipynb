{
  "nbformat": 4,
  "nbformat_minor": 0,
  "metadata": {
    "colab": {
      "provenance": []
    },
    "kernelspec": {
      "name": "python3",
      "display_name": "Python 3"
    },
    "language_info": {
      "name": "python"
    }
  },
  "cells": [
    {
      "cell_type": "markdown",
      "source": [
        "# Problem Statement: **Welcome to AI Town!**\n",
        "\n",
        "### You’ve been hired as an AI engineer in **AI Town**, a futuristic city powered by artificial intelligence. Your job is to use PyTorch to solve foundational challenges that AI Town faces. Each task requires you to demonstrate your expertise with PyTorch basics."
      ],
      "metadata": {
        "id": "q7UkbxIuOsEb"
      }
    },
    {
      "cell_type": "markdown",
      "source": [
        "\n",
        "\n",
        "---\n",
        "\n"
      ],
      "metadata": {
        "id": "gwD-rhXXnhIz"
      }
    },
    {
      "cell_type": "markdown",
      "source": [
        "Imports and CUDA"
      ],
      "metadata": {
        "id": "6JwL8-81yLWK"
      }
    },
    {
      "cell_type": "code",
      "source": [
        "import torch\n",
        "\n",
        "# Check if CUDA (GPU) is available\n",
        "device = torch.device('cuda' if torch.cuda.is_available() else 'cpu')\n",
        "print(f\"Using device: {device}\")\n"
      ],
      "metadata": {
        "id": "yR0_z_79yKEK"
      },
      "execution_count": null,
      "outputs": []
    },
    {
      "cell_type": "markdown",
      "source": [
        "\n",
        "\n",
        "---\n",
        "\n"
      ],
      "metadata": {
        "id": "6iiOkre3ye0n"
      }
    },
    {
      "cell_type": "markdown",
      "source": [
        "**Task1: Inventory Management**\n",
        "\n",
        "AI Town’s warehouse uses sensors to record the inventory of 5 items every day. Each day’s data is represented as a list of integers (number of units)."
      ],
      "metadata": {
        "id": "iGT8uIK2nzxa"
      }
    },
    {
      "cell_type": "code",
      "source": [
        "#1 Create a PyTorch Tensor from the following inventory data\n",
        "inventory = [[12, 15, 10, 0, 5],\n",
        "             [10, 8, 7, 5, 4],\n",
        "             [20, 10, 15, 5, 2]]\n"
      ],
      "metadata": {
        "id": "yQj9yyF-pADV"
      },
      "execution_count": null,
      "outputs": []
    },
    {
      "cell_type": "code",
      "source": [
        "#2 Find the total inventory for each item across all days"
      ],
      "metadata": {
        "id": "piee_hPCo-VW"
      },
      "execution_count": null,
      "outputs": []
    },
    {
      "cell_type": "code",
      "execution_count": null,
      "metadata": {
        "id": "O-0F3R8uObWT"
      },
      "outputs": [],
      "source": [
        "#3 Find the average inventory per day"
      ]
    },
    {
      "cell_type": "markdown",
      "source": [
        "\n",
        "\n",
        "---\n",
        "\n"
      ],
      "metadata": {
        "id": "4eWH3-JBycim"
      }
    },
    {
      "cell_type": "markdown",
      "source": [
        "**Task2: Monitoring Vehicle Flow**\n",
        "\n",
        "AI Town uses a sensor to monitor the number of vehicles passing through two main roads every hour. The data for one day (24 hours) is represented as two\n",
        "1×24 tensors."
      ],
      "metadata": {
        "id": "jqsNZz1VpDTB"
      }
    },
    {
      "cell_type": "code",
      "source": [
        "#1 Simulate this data using PyTorch's Random Functions"
      ],
      "metadata": {
        "id": "v0N1_20upZV0"
      },
      "execution_count": null,
      "outputs": []
    },
    {
      "cell_type": "code",
      "source": [
        "#2 Write the function to calculate the total vehicle flow for each road across the entire day"
      ],
      "metadata": {
        "id": "o2ldiyONpkp_"
      },
      "execution_count": null,
      "outputs": []
    },
    {
      "cell_type": "code",
      "source": [
        "#3 Write the function to calculate the total vehicle flow for each hour across both roads\n"
      ],
      "metadata": {
        "id": "PP1ukEgXpvl_"
      },
      "execution_count": null,
      "outputs": []
    },
    {
      "cell_type": "markdown",
      "source": [
        "\n",
        "\n",
        "---\n",
        "\n"
      ],
      "metadata": {
        "id": "wkp5wRVHygcH"
      }
    },
    {
      "cell_type": "markdown",
      "source": [
        "**Task3: Fitness Matrix**\n",
        "\n",
        "The AI Gym tracks members’ fitness scores using a 3×3 matrix for *strength*, *stamina*, and f*lexibility*. Each row represents a different member, and each column represents a specific metric."
      ],
      "metadata": {
        "id": "9_03v1baqBBB"
      }
    },
    {
      "cell_type": "code",
      "source": [
        "#1 Create a 3*3 tensor matrix and multiply the scores of each member by a weight factor: [0.8, 1.2, 1.5]"
      ],
      "metadata": {
        "id": "GlQTZKI6rZ5X"
      },
      "execution_count": null,
      "outputs": []
    },
    {
      "cell_type": "code",
      "source": [
        "#2 Find the row-wise and column-wise maximum scores"
      ],
      "metadata": {
        "id": "_uce_-rXr1un"
      },
      "execution_count": null,
      "outputs": []
    },
    {
      "cell_type": "code",
      "source": [
        "#3 Transpose the fitness matrix and interpret it's new structure (shape)"
      ],
      "metadata": {
        "id": "WIapNxZ6r4Dn"
      },
      "execution_count": null,
      "outputs": []
    },
    {
      "cell_type": "markdown",
      "source": [
        "\n",
        "\n",
        "---\n",
        "\n"
      ],
      "metadata": {
        "id": "LlDlQS0Vyh8W"
      }
    },
    {
      "cell_type": "markdown",
      "source": [
        "**Task4: Chain Rule in Action**\n",
        "\n",
        "AI Lab is running experiments to understand the effect of temperature (\n",
        "x) on a chemical reaction rate (y). The relationship is given as:\n",
        "$y = 2x^3 + 5x^2 - 3x + 7$\n",
        "\n"
      ],
      "metadata": {
        "id": "03ROjCDosA1-"
      }
    },
    {
      "cell_type": "code",
      "source": [
        "#1 Use PyTorch to compute 'y' for x = 4"
      ],
      "metadata": {
        "id": "3A33YR0QvHjn"
      },
      "execution_count": null,
      "outputs": []
    },
    {
      "cell_type": "code",
      "source": [
        "#2 Calculate dy/dx(gradient) using PyTorch's autograd"
      ],
      "metadata": {
        "id": "-9I7GHC2vyi2"
      },
      "execution_count": null,
      "outputs": []
    },
    {
      "cell_type": "markdown",
      "source": [
        "\n",
        "\n",
        "---\n",
        "\n"
      ],
      "metadata": {
        "id": "cWs5gdmiylYe"
      }
    },
    {
      "cell_type": "markdown",
      "source": [
        "**Task5: Camera Calibration**\n",
        "\n",
        "AI Town’s surveillance cameras need to align their focus. You are given the following matrices for two cameras’ focus adjustments:"
      ],
      "metadata": {
        "id": "12iKFr_NwC7d"
      }
    },
    {
      "cell_type": "code",
      "source": [
        "'''\n",
        "camera1 = torch.tensor([[1, 2], [3, 4]])\n",
        "camera2 = torch.tensor([[5, 6], [7, 8]])\n",
        "'''"
      ],
      "metadata": {
        "id": "3syFy2GlwLRZ"
      },
      "execution_count": null,
      "outputs": []
    },
    {
      "cell_type": "code",
      "source": [
        "#1 Perform an element-wise multiplication of matrices ( Hadamard Product)"
      ],
      "metadata": {
        "id": "xJH8T-85wO_B"
      },
      "execution_count": null,
      "outputs": []
    },
    {
      "cell_type": "code",
      "source": [
        "#2 Compute Dot Product of the two matrices"
      ],
      "metadata": {
        "id": "yL5otP3FwZY8"
      },
      "execution_count": null,
      "outputs": []
    },
    {
      "cell_type": "code",
      "source": [
        "#3 Compute the Determinant of each matrix"
      ],
      "metadata": {
        "id": "97dWTkQzxBaH"
      },
      "execution_count": null,
      "outputs": []
    },
    {
      "cell_type": "markdown",
      "source": [
        "\n",
        "\n",
        "---\n",
        "\n"
      ],
      "metadata": {
        "id": "dtQXmntaym2T"
      }
    },
    {
      "cell_type": "markdown",
      "source": [
        "**Task6: Neural Network Foundations**\n",
        "\n",
        "Our AI University uses simplified single neuron model (perceptron):\n",
        "$$y = wx + b$$"
      ],
      "metadata": {
        "id": "tA6tObX4xFLE"
      }
    },
    {
      "cell_type": "code",
      "source": [
        "#1 Create tensors for w  = 2, b = 1, x = [1, 2, 3, 4]"
      ],
      "metadata": {
        "id": "CAynFZXZxf53"
      },
      "execution_count": null,
      "outputs": []
    },
    {
      "cell_type": "code",
      "source": [
        "#2 Compute tensors for y"
      ],
      "metadata": {
        "id": "sAtHYFNDxqy-"
      },
      "execution_count": null,
      "outputs": []
    },
    {
      "cell_type": "markdown",
      "source": [
        "\n",
        "\n",
        "---\n",
        "\n"
      ],
      "metadata": {
        "id": "3PLDt7oKyoI6"
      }
    }
  ]
}